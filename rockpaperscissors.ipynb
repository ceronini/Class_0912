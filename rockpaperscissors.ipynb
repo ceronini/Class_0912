{
 "metadata": {
  "language_info": {
   "codemirror_mode": {
    "name": "ipython",
    "version": 3
   },
   "file_extension": ".py",
   "mimetype": "text/x-python",
   "name": "python",
   "nbconvert_exporter": "python",
   "pygments_lexer": "ipython3",
   "version": "3.8.3-final"
  },
  "orig_nbformat": 2,
  "kernelspec": {
   "name": "Python 3.8.3 64-bit ('base': conda)",
   "display_name": "Python 3.8.3 64-bit ('base': conda)",
   "metadata": {
    "interpreter": {
     "hash": "0a2cef2b6e3b098f14cb7320c350b884ad4974825241ae81559ac482ff86c878"
    }
   }
  }
 },
 "nbformat": 4,
 "nbformat_minor": 2,
 "cells": [
  {
   "cell_type": "code",
   "execution_count": 3,
   "metadata": {
    "tags": []
   },
   "outputs": [
    {
     "output_type": "stream",
     "name": "stdout",
     "text": "Player_1&#39;s choice is rock\nPlayer_2&#39;s choice is scissors\nPlayer1 wins\n"
    }
   ],
   "source": [
    "# import random function\n",
    "\"\"\" \n",
    "define possible outcomes for a game of rock paper scissors:\n",
    "paper and scissors: scissors wins 'cause scissors can cut paper\n",
    "rock and scissors: rock wins 'cause scissors can't cut rock\n",
    "rock and paper: paper wins 'cause thats what I was told by someone who has a young daughter\n",
    "\n",
    "\"\"\"\n",
    "import random\n",
    "\n",
    "# create string variables: rock, paper, scissors\n",
    "choice_1 = f\"rock\"\n",
    "choice_2 = f\"paper\"\n",
    "choice_3 = f\"scissors\"\n",
    "\n",
    "\n",
    "\n",
    "computer_choices = (\"rock\", \"paper\", \"scissors\")\n",
    "\n",
    "# assign random selection of options\n",
    "\n",
    "Player1 = random.choice(computer_choices)\n",
    "Player2 = random.choice(computer_choices)\n",
    "\n",
    "# check if code works using print and then continue\n",
    "\n",
    "print(\"Player_1's choice is\", Player1)\n",
    "print(\"Player_2's choice is\", Player2)\n",
    "\n",
    "# loop through possible outcomes of random plays\n",
    "\n",
    "if (Player1 == choice_1 and Player2 == choice_2):\n",
    "            print(\"Player2 wins\")\n",
    "elif (Player1 == choice_1 and Player2 == choice_3):\n",
    "            print(\"Player1 wins\")\n",
    "elif (Player1 == choice_2 and Player2 == choice_1):\n",
    "            print(\"Player1 wins\")\n",
    "elif (Player1 == choice_2 and Player2 == choice_3):\n",
    "            print(\"Player2 wins\")\n",
    "elif (Player1 == choice_3 and Player2 == choice_1):\n",
    "            print(\"Player2 wins\")\n",
    "elif (Player1 == choice_3 and Player2 == choice_2):\n",
    "            print(\"Player1 wins\")\n",
    "else:\n",
    "    print(\"It is a tie\")"
   ]
  },
  {
   "cell_type": "code",
   "execution_count": null,
   "metadata": {},
   "outputs": [],
   "source": []
  }
 ]
}